{
 "cells": [
  {
   "cell_type": "code",
   "execution_count": 1,
   "id": "d43800c9-345b-4b36-963d-25400e5bf4f3",
   "metadata": {},
   "outputs": [],
   "source": [
    "# 1. Is the Python Standard Library included with PyInputPlus?"
   ]
  },
  {
   "cell_type": "code",
   "execution_count": 2,
   "id": "56c4d6bf-6651-4f74-8108-49761ce1f1d0",
   "metadata": {},
   "outputs": [],
   "source": [
    "\n",
    "# No, the Python Standard Library does not include PyInputPlus. PyInputPlus is a third-party module that provides additional input validation features beyond those available in the Python Standard Library."
   ]
  },
  {
   "cell_type": "code",
   "execution_count": 3,
   "id": "d02beaff-23d9-4a07-a9ae-9df37e5fbf54",
   "metadata": {},
   "outputs": [],
   "source": [
    "# 2. Why is PyInputPlus commonly imported with import pyinputplus as pypi?"
   ]
  },
  {
   "cell_type": "code",
   "execution_count": 4,
   "id": "a15606b1-b3e0-4704-b1a2-0d545d4c84e8",
   "metadata": {},
   "outputs": [],
   "source": [
    "# PyInputPlus is commonly imported with the alias pypi using import pyinputplus as pypi for the sake of convenience and brevity. Using an alias can make the code easier to read and write, especially if you need to call PyInputPlus functions multiple times in your script. "
   ]
  },
  {
   "cell_type": "code",
   "execution_count": 5,
   "id": "bac42238-c6af-42f1-9a40-5bacccfcaa08",
   "metadata": {},
   "outputs": [],
   "source": [
    "# 3. How do you distinguish between inputInt() and inputFloat()?"
   ]
  },
  {
   "cell_type": "code",
   "execution_count": 6,
   "id": "8ceb17cb-4e81-448b-87c1-b40af4b23e7d",
   "metadata": {},
   "outputs": [],
   "source": [
    "# inputInt() and inputFloat() are functions from the PyInputPlus library that are used to accept and validate integer and floating-point number inputs, respectively. Here’s how you distinguish between them:\n",
    "\n",
    "# inputInt(): This function is used to prompt the user to enter an integer value. It ensures that the input is a valid integer and can include additional parameters for validation such as minimum and maximum values.\n",
    "\n",
    "# inputFloat(): This function is used to prompt the user to enter a floating-point number. It ensures that the input is a valid floating-point number and can also include parameters for validation such as minimum and maximum values.\n",
    "\n"
   ]
  },
  {
   "cell_type": "code",
   "execution_count": 7,
   "id": "af3ee1fd-201e-4c82-af5f-e3e33c12a46f",
   "metadata": {},
   "outputs": [],
   "source": [
    "# 4. Using PyInputPlus, how do you ensure that the user enters a whole number between 0 and 99?"
   ]
  },
  {
   "cell_type": "code",
   "execution_count": 11,
   "id": "68893be8-b739-42bb-90d8-26ea13b558d3",
   "metadata": {},
   "outputs": [
    {
     "ename": "ModuleNotFoundError",
     "evalue": "No module named 'pyinputplus'",
     "output_type": "error",
     "traceback": [
      "\u001b[0;31m---------------------------------------------------------------------------\u001b[0m",
      "\u001b[0;31mModuleNotFoundError\u001b[0m                       Traceback (most recent call last)",
      "Cell \u001b[0;32mIn[11], line 3\u001b[0m\n\u001b[1;32m      1\u001b[0m \u001b[38;5;66;03m# Using PyInputPlus, you can ensure that the user enters a whole number between 0 and 99 by using the inputInt() function with the min and max parameters set to 0 and 99, respectively. Here's how you can do it:\u001b[39;00m\n\u001b[0;32m----> 3\u001b[0m \u001b[38;5;28;01mimport\u001b[39;00m \u001b[38;5;21;01mpyinputplus\u001b[39;00m \u001b[38;5;28;01mas\u001b[39;00m \u001b[38;5;21;01mpypi\u001b[39;00m\n\u001b[1;32m      5\u001b[0m number \u001b[38;5;241m=\u001b[39m pypi\u001b[38;5;241m.\u001b[39minputInt(\u001b[38;5;124m\"\u001b[39m\u001b[38;5;124mEnter a whole number between 0 and 99: \u001b[39m\u001b[38;5;124m\"\u001b[39m, \u001b[38;5;28mmin\u001b[39m\u001b[38;5;241m=\u001b[39m\u001b[38;5;241m0\u001b[39m, \u001b[38;5;28mmax\u001b[39m\u001b[38;5;241m=\u001b[39m\u001b[38;5;241m99\u001b[39m)\n\u001b[1;32m      6\u001b[0m \u001b[38;5;28mprint\u001b[39m(\u001b[38;5;124mf\u001b[39m\u001b[38;5;124m\"\u001b[39m\u001b[38;5;124mYou entered: \u001b[39m\u001b[38;5;132;01m{\u001b[39;00mnumber\u001b[38;5;132;01m}\u001b[39;00m\u001b[38;5;124m\"\u001b[39m)\n",
      "\u001b[0;31mModuleNotFoundError\u001b[0m: No module named 'pyinputplus'"
     ]
    }
   ],
   "source": [
    "# Using PyInputPlus, you can ensure that the user enters a whole number between 0 and 99 by using the inputInt() function with the min and max parameters set to 0 and 99, respectively. Here's how you can do it:\n",
    "\n",
    "import pyinputplus as pypi\n",
    "\n",
    "number = pypi.inputInt(\"Enter a whole number between 0 and 99: \", min=0, max=99)\n",
    "print(f\"You entered: {number}\")\n",
    "\n",
    "# In this example:\n",
    "\n",
    "# inputInt() prompts the user to enter an integer.\n",
    "# The min=0 parameter ensures that the input is at least 0.\n",
    "# The max=99 parameter ensures that the input is at most 99."
   ]
  },
  {
   "cell_type": "code",
   "execution_count": 12,
   "id": "9ce10c3c-b679-4434-90c4-c499df4d1d83",
   "metadata": {},
   "outputs": [],
   "source": [
    "# 5. What is transferred to the keyword arguments allowRegexes and blockRegexes?"
   ]
  },
  {
   "cell_type": "code",
   "execution_count": 14,
   "id": "8faac199-c2fc-4c55-a969-388b93984392",
   "metadata": {},
   "outputs": [],
   "source": [
    "# The keyword arguments allowRegexes and blockRegexes in PyInputPlus functions are used to define patterns for valid and invalid input using regular expressions (regexes). These arguments accept lists of regular expression strings or compiled regular expression objects.\n",
    "\n",
    "# allowRegexes\n",
    "# Purpose: To specify patterns that are allowed as valid input.\n",
    "# Usage: When an input matches any of the provided regex patterns, it is considered valid.\n",
    "\n",
    "# blockRegexes\n",
    "# Purpose: To specify patterns that are not allowed as input.\n",
    "# Usage: When an input matches any of the provided regex patterns, it is considered invalid."
   ]
  },
  {
   "cell_type": "code",
   "execution_count": 15,
   "id": "31f2e59d-b9b2-4643-acda-ad4953c8206e",
   "metadata": {},
   "outputs": [],
   "source": [
    "# 6. If a blank input is entered three times, what does inputStr(limit=3) do?"
   ]
  },
  {
   "cell_type": "code",
   "execution_count": 16,
   "id": "7f950501-b064-4be2-a4bd-e84de1fc06ce",
   "metadata": {},
   "outputs": [],
   "source": [
    "# The inputStr(limit=3) function typically works by prompting the user to enter input up to a specified limit. Here's what happens if a blank input is entered three times:\n",
    "\n",
    "# First Prompt: The function will ask the user for input.\n",
    "# Second Prompt: If the first input is blank, the function will prompt the user again.\n",
    "# Third Prompt: If the second input is also blank, the function will prompt the user a third time.\n",
    "# After Third Blank Input: If the third input is also blank, the function will stop prompting and either return None or an empty string, depending on its implementation."
   ]
  },
  {
   "cell_type": "code",
   "execution_count": 17,
   "id": "7536f9f0-add4-4f76-b66a-48fdcc7455b9",
   "metadata": {},
   "outputs": [],
   "source": [
    "# 7. If blank input is entered three times, what does inputStr(limit=3, default=&#39;hello&#39;) do?"
   ]
  },
  {
   "cell_type": "code",
   "execution_count": 18,
   "id": "1ac5413b-9e55-44e3-854b-6583e9ae30fe",
   "metadata": {},
   "outputs": [
    {
     "ename": "ModuleNotFoundError",
     "evalue": "No module named 'pyinputplus'",
     "output_type": "error",
     "traceback": [
      "\u001b[0;31m---------------------------------------------------------------------------\u001b[0m",
      "\u001b[0;31mModuleNotFoundError\u001b[0m                       Traceback (most recent call last)",
      "Cell \u001b[0;32mIn[18], line 9\u001b[0m\n\u001b[1;32m      1\u001b[0m \u001b[38;5;66;03m# If the inputStr(limit=3, default='hello') function from PyInputPlus is used and the user enters a blank input three times, the function will return the default value 'hello'.\u001b[39;00m\n\u001b[1;32m      2\u001b[0m \n\u001b[1;32m      3\u001b[0m \u001b[38;5;66;03m# Here's how it works:\u001b[39;00m\n\u001b[0;32m   (...)\u001b[0m\n\u001b[1;32m      6\u001b[0m \u001b[38;5;66;03m# default='hello': This parameter sets the default value to be returned if the user fails to provide valid input within the specified number of attempts.\u001b[39;00m\n\u001b[1;32m      7\u001b[0m \u001b[38;5;66;03m# Example\u001b[39;00m\n\u001b[0;32m----> 9\u001b[0m \u001b[38;5;28;01mimport\u001b[39;00m \u001b[38;5;21;01mpyinputplus\u001b[39;00m \u001b[38;5;28;01mas\u001b[39;00m \u001b[38;5;21;01mpypi\u001b[39;00m\n\u001b[1;32m     11\u001b[0m response \u001b[38;5;241m=\u001b[39m pypi\u001b[38;5;241m.\u001b[39minputStr(prompt\u001b[38;5;241m=\u001b[39m\u001b[38;5;124m\"\u001b[39m\u001b[38;5;124mEnter a string: \u001b[39m\u001b[38;5;124m\"\u001b[39m, limit\u001b[38;5;241m=\u001b[39m\u001b[38;5;241m3\u001b[39m, default\u001b[38;5;241m=\u001b[39m\u001b[38;5;124m'\u001b[39m\u001b[38;5;124mhello\u001b[39m\u001b[38;5;124m'\u001b[39m)\n\u001b[1;32m     12\u001b[0m \u001b[38;5;28mprint\u001b[39m(\u001b[38;5;124mf\u001b[39m\u001b[38;5;124m\"\u001b[39m\u001b[38;5;124mYou entered: \u001b[39m\u001b[38;5;132;01m{\u001b[39;00mresponse\u001b[38;5;132;01m}\u001b[39;00m\u001b[38;5;124m\"\u001b[39m)\n",
      "\u001b[0;31mModuleNotFoundError\u001b[0m: No module named 'pyinputplus'"
     ]
    }
   ],
   "source": [
    "# If the inputStr(limit=3, default='hello') function from PyInputPlus is used and the user enters a blank input three times, the function will return the default value 'hello'.\n",
    "\n",
    "# Here's how it works:\n",
    "\n",
    "# limit=3: This parameter sets the maximum number of attempts the user has to provide valid input. In this case, the user is allowed up to 3 attempts.\n",
    "# default='hello': This parameter sets the default value to be returned if the user fails to provide valid input within the specified number of attempts.\n",
    "# Example\n",
    "\n",
    "import pyinputplus as pypi\n",
    "\n",
    "response = pypi.inputStr(prompt=\"Enter a string: \", limit=3, default='hello')\n",
    "print(f\"You entered: {response}\")\n"
   ]
  },
  {
   "cell_type": "code",
   "execution_count": null,
   "id": "75f8c77f-eb6b-4b18-970c-ad911f08028c",
   "metadata": {},
   "outputs": [],
   "source": []
  }
 ],
 "metadata": {
  "kernelspec": {
   "display_name": "Python 3 (ipykernel)",
   "language": "python",
   "name": "python3"
  },
  "language_info": {
   "codemirror_mode": {
    "name": "ipython",
    "version": 3
   },
   "file_extension": ".py",
   "mimetype": "text/x-python",
   "name": "python",
   "nbconvert_exporter": "python",
   "pygments_lexer": "ipython3",
   "version": "3.10.8"
  }
 },
 "nbformat": 4,
 "nbformat_minor": 5
}
